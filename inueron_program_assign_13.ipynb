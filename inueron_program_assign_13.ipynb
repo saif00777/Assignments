{
  "nbformat": 4,
  "nbformat_minor": 0,
  "metadata": {
    "colab": {
      "provenance": []
    },
    "kernelspec": {
      "name": "python3",
      "display_name": "Python 3"
    },
    "language_info": {
      "name": "python"
    }
  },
  "cells": [
    {
      "cell_type": "markdown",
      "source": [
        "Question 1:\n",
        "Write a program that calculates and prints the value according to the given formula:\n",
        "Q = Square root of [(2 * C * D)/H]\n",
        "Following are the fixed values of C and H:\n",
        "C is 50. H is 30.\n",
        "D is the variable whose values should be input to your program in a comma-separated\n",
        "sequence.\n",
        "Example\n",
        "Let us assume the following comma separated input sequence is given to the program:\n",
        "100,150,180\n",
        "The output of the program should be:\n",
        "18,22,24"
      ],
      "metadata": {
        "id": "s2OcNZEn7UcV"
      }
    },
    {
      "cell_type": "code",
      "source": [
        "import math\n",
        "\n",
        "# Define the fixed values of C and H\n",
        "C = 50\n",
        "H = 30\n",
        "\n",
        "# Get the input values for D as a comma-separated string\n",
        "input_str = input(\"Enter values of D (comma-separated): \")\n",
        "\n",
        "# Split the input string into a list of integers\n",
        "D_list = [int(x) for x in input_str.split(',')]\n",
        "\n",
        "# Calculate the value of Q for each value of D and print the results\n",
        "results = []\n",
        "for D in D_list:\n",
        "    Q = round(math.sqrt((2 * C * D) / H))\n",
        "    results.append(str(Q))\n",
        "\n",
        "print(\"Output:\", \",\".join(results))"
      ],
      "metadata": {
        "id": "wkJud3cr7WZb"
      },
      "execution_count": null,
      "outputs": []
    },
    {
      "cell_type": "markdown",
      "source": [
        "Question 2:\n",
        "Write a program which takes 2 digits, X,Y as input and generates a 2-dimensional array. The\n",
        "element value in the i-th row and j-th column of the array should be i*j.\n",
        "Note: i=0,1.., X-1; j=0,1,¡Y-1.\n",
        "Example\n",
        "Suppose the following inputs are given to the program:\n",
        "3,5\n",
        "Then, the output of the program should be:\n",
        "[[0, 0, 0, 0, 0], [0, 1, 2, 3, 4], [0, 2, 4, 6, 8]]"
      ],
      "metadata": {
        "id": "-mb6vc-a7j1F"
      }
    },
    {
      "cell_type": "code",
      "source": [
        "# Get the input values for X and Y\n",
        "X, Y = map(int, input(\"Enter values for X and Y (comma-separated): \").split(','))\n",
        "\n",
        "# Create a 2-dimensional array of size X by Y\n",
        "result = [[i*j for j in range(Y)] for i in range(X)]\n",
        "\n",
        "# Print the resulting 2-dimensional array\n",
        "print(\"Output:\", result)\n"
      ],
      "metadata": {
        "id": "-SIVExoP7oQL"
      },
      "execution_count": null,
      "outputs": []
    },
    {
      "cell_type": "markdown",
      "source": [
        "Question 3:\n",
        "Write a program that accepts a comma separated sequence of words as input and prints the\n",
        "words in a comma-separated sequence after sorting them alphabetically.\n",
        "Suppose the following input is supplied to the program:\n",
        "without,hello,bag,world\n",
        "Then, the output should be:\n",
        "bag,hello,without,world"
      ],
      "metadata": {
        "id": "8aLhn47277KL"
      }
    },
    {
      "cell_type": "code",
      "source": [
        "# Get the input sequence of words from the user\n",
        "words = input(\"Enter a comma-separated sequence of words: \")\n",
        "\n",
        "# Split the input sequence into a list of words\n",
        "word_list = words.split(',')\n",
        "\n",
        "# Sort the list of words alphabetically\n",
        "word_list.sort()\n",
        "\n",
        "# Join the sorted list of words back into a comma-separated string\n",
        "sorted_words = \",\".join(word_list)\n",
        "\n",
        "# Print the sorted list of words\n",
        "print(\"Output:\", sorted_words)\n"
      ],
      "metadata": {
        "id": "oHv89ZC-8D-Z"
      },
      "execution_count": null,
      "outputs": []
    },
    {
      "cell_type": "markdown",
      "source": [
        "Question 4:\n",
        "Write a program that accepts a sequence of whitespace separated words as input and prints\n",
        "the words after removing all duplicate words and sorting them alphanumerically.\n",
        "Suppose the following input is supplied to the program:\n",
        "hello world and practice makes perfect and hello world again\n",
        "Then, the output should be:\n",
        "again and hello makes perfect practice world"
      ],
      "metadata": {
        "id": "WVVqCCQQ8bn-"
      }
    },
    {
      "cell_type": "code",
      "source": [
        "# Get the input sequence of words from the user\n",
        "words = input(\"Enter a sequence of whitespace separated words: \")\n",
        "\n",
        "# Split the input sequence into a list of words\n",
        "word_list = words.split()\n",
        "\n",
        "# Remove duplicates from the list of words using set()\n",
        "unique_words = set(word_list)\n",
        "\n",
        "# Sort the list of unique words alphabetically\n",
        "sorted_words = sorted(unique_words)\n",
        "\n",
        "# Join the sorted list of words back into a whitespace-separated string\n",
        "result = \" \".join(sorted_words)\n",
        "\n",
        "# Print the sorted list of unique words\n",
        "print(\"Output:\", result)\n"
      ],
      "metadata": {
        "id": "ntbtIrvn8cDA"
      },
      "execution_count": null,
      "outputs": []
    },
    {
      "cell_type": "markdown",
      "source": [
        "Question 5:\n",
        "Write a program that accepts a sentence and calculate the number of letters and digits.\n",
        "Suppose the following input is supplied to the program:\n",
        "hello world! 123\n",
        "Then, the output should be:\n",
        "LETTERS 10\n",
        "\n",
        "DIGITS 3"
      ],
      "metadata": {
        "id": "-0k0XkDb8iFn"
      }
    },
    {
      "cell_type": "code",
      "source": [
        "# Get the input sentence from the user\n",
        "sentence = input(\"Enter a sentence: \")\n",
        "\n",
        "# Initialize counters for letters and digits\n",
        "letter_count = 0\n",
        "digit_count = 0\n",
        "\n",
        "# Iterate over each character in the sentence\n",
        "for char in sentence:\n",
        "    # Check if the character is a letter\n",
        "    if char.isalpha():\n",
        "        letter_count += 1\n",
        "    # Check if the character is a digit\n",
        "    elif char.isdigit():\n",
        "        digit_count += 1\n",
        "\n",
        "# Print the letter and digit counts\n",
        "print(\"LETTERS\", letter_count)\n",
        "print(\"DIGITS\", digit_count)\n"
      ],
      "metadata": {
        "id": "dmo_kZDa8hhi"
      },
      "execution_count": null,
      "outputs": []
    },
    {
      "cell_type": "markdown",
      "source": [
        "Question 6:\n",
        "A website requires the users to input username and password to register. Write a program to\n",
        "check the validity of password input by users.\n",
        "Following are the criteria for checking the password:\n",
        "1. At least 1 letter between [a-z]\n",
        "2. At least 1 number between [0-9]\n",
        "1. At least 1 letter between [A-Z]\n",
        "3. At least 1 character from [$#@]\n",
        "4. Minimum length of transaction password: 6\n",
        "5. Maximum length of transaction password: 12\n",
        "Your program should accept a sequence of comma separated passwords and will check them\n",
        "according to the above criteria. Passwords that match the criteria are to be printed, each\n",
        "separated by a comma.\n",
        "Example\n",
        "If the following passwords are given as input to the program:\n",
        "ABd1234@1,a F1#,2w3E*,2We3345\n",
        "Then, the output of the program should be:\n",
        "ABd1234@1"
      ],
      "metadata": {
        "id": "4gkjilZn8t5t"
      }
    },
    {
      "cell_type": "code",
      "source": [
        "import re\n",
        "\n",
        "passwords = input(\"Enter comma-separated passwords: \").split(\",\")\n",
        "\n",
        "valid_passwords = []\n",
        "for password in passwords:\n",
        "    if len(password) < 6 or len(password) > 12:\n",
        "        continue\n",
        "    if not re.search(\"[a-z]\", password):\n",
        "        continue\n",
        "    if not re.search(\"[0-9]\", password):\n",
        "        continue\n",
        "    if not re.search(\"[A-Z]\", password):\n",
        "        continue\n",
        "    if not re.search(\"[$#@]\", password):\n",
        "        continue\n",
        "    valid_passwords.append(password)\n",
        "\n",
        "print(\",\".join(valid_passwords))\n"
      ],
      "metadata": {
        "id": "dZ0NS0cU8uL1"
      },
      "execution_count": null,
      "outputs": []
    }
  ]
}