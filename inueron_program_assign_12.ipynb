{
  "nbformat": 4,
  "nbformat_minor": 0,
  "metadata": {
    "colab": {
      "provenance": []
    },
    "kernelspec": {
      "name": "python3",
      "display_name": "Python 3"
    },
    "language_info": {
      "name": "python"
    }
  },
  "cells": [
    {
      "cell_type": "markdown",
      "source": [
        "1. Write a Python program to Extract Unique values dictionary values?"
      ],
      "metadata": {
        "id": "yo5fNuGV5kcD"
      }
    },
    {
      "cell_type": "code",
      "source": [
        "# Define a sample dictionary\n",
        "sample_dict = {'key1': [1, 2, 3, 4], 'key2': [2, 3, 4, 5], 'key3': [3, 4, 5, 6]}\n",
        "\n",
        "# Create an empty set to store unique values\n",
        "unique_values = set()\n",
        "\n",
        "# Loop through each value list in the dictionary\n",
        "for values_list in sample_dict.values():\n",
        "    # Add all values in the list to the set\n",
        "    for value in values_list:\n",
        "        unique_values.add(value)\n",
        "\n",
        "# Print the unique values\n",
        "print(unique_values)\n"
      ],
      "metadata": {
        "colab": {
          "base_uri": "https://localhost:8080/"
        },
        "id": "Ig79ENDc5lLe",
        "outputId": "6a1d4c2b-4b30-43b8-9923-c099d54aea1b"
      },
      "execution_count": null,
      "outputs": [
        {
          "output_type": "stream",
          "name": "stdout",
          "text": [
            "{1, 2, 3, 4, 5, 6}\n"
          ]
        }
      ]
    },
    {
      "cell_type": "markdown",
      "source": [
        "2. Write a Python program to find the sum of all items in a dictionary?"
      ],
      "metadata": {
        "id": "klf_jZ-45sfI"
      }
    },
    {
      "cell_type": "code",
      "source": [
        "# Define a sample dictionary\n",
        "sample_dict = {'key1': 10, 'key2': 20, 'key3': 30}\n",
        "\n",
        "# Calculate the sum of all values in the dictionary\n",
        "sum_of_values = sum(sample_dict.values())\n",
        "\n",
        "# Print the sum\n",
        "print(\"The sum of all values in the dictionary is:\", sum_of_values)\n"
      ],
      "metadata": {
        "colab": {
          "base_uri": "https://localhost:8080/"
        },
        "id": "lbKHbIHx5vd5",
        "outputId": "4c2c78ab-4620-4125-aede-c8523585de65"
      },
      "execution_count": null,
      "outputs": [
        {
          "output_type": "stream",
          "name": "stdout",
          "text": [
            "The sum of all values in the dictionary is: 60\n"
          ]
        }
      ]
    },
    {
      "cell_type": "markdown",
      "source": [
        "3. Write a Python program to Merging two Dictionaries?"
      ],
      "metadata": {
        "id": "NHH7Ussy6A2H"
      }
    },
    {
      "cell_type": "code",
      "source": [
        "# Define two sample dictionaries\n",
        "dict1 = {'key1': 'value1', 'key2': 'value2'}\n",
        "dict2 = {'key3': 'value3', 'key4': 'value4'}\n",
        "\n",
        "# Use the update() method to merge the dictionaries\n",
        "merged_dict = dict1.copy()\n",
        "merged_dict.update(dict2)\n",
        "\n",
        "# Print the merged dictionary\n",
        "print(\"Merged dictionary:\", merged_dict)\n"
      ],
      "metadata": {
        "colab": {
          "base_uri": "https://localhost:8080/"
        },
        "id": "nTQsfUZQ6BrE",
        "outputId": "3e4c6570-e79e-4ccf-9024-13db69e45d10"
      },
      "execution_count": null,
      "outputs": [
        {
          "output_type": "stream",
          "name": "stdout",
          "text": [
            "Merged dictionary: {'key1': 'value1', 'key2': 'value2', 'key3': 'value3', 'key4': 'value4'}\n"
          ]
        }
      ]
    },
    {
      "cell_type": "markdown",
      "source": [
        "4. Write a Python program to convert key-values list to flat dictionary?"
      ],
      "metadata": {
        "id": "MyKMwAqZ6I6o"
      }
    },
    {
      "cell_type": "code",
      "source": [
        "# Define a sample list of key-value pairs\n",
        "key_value_list = [('key1', 1), ('key2', 2), ('key3', 3)]\n",
        "\n",
        "# Create an empty dictionary to store the flattened key-value pairs\n",
        "flat_dict = {}\n",
        "\n",
        "# Loop through each key-value pair in the list and add it to the dictionary\n",
        "for key, value in key_value_list:\n",
        "    flat_dict[key] = value\n",
        "\n",
        "# Print the flattened dictionary\n",
        "print(\"Flattened dictionary:\", flat_dict)\n"
      ],
      "metadata": {
        "colab": {
          "base_uri": "https://localhost:8080/"
        },
        "id": "BM-eUkkA6K6W",
        "outputId": "4be20f04-cb4a-4d4d-9cdb-a5a4cf7a4e0c"
      },
      "execution_count": null,
      "outputs": [
        {
          "output_type": "stream",
          "name": "stdout",
          "text": [
            "Flattened dictionary: {'key1': 1, 'key2': 2, 'key3': 3}\n"
          ]
        }
      ]
    },
    {
      "cell_type": "markdown",
      "source": [
        "5. Write a Python program to insertion at the beginning in OrderedDict?"
      ],
      "metadata": {
        "id": "9-niNpWQ6Sbv"
      }
    },
    {
      "cell_type": "code",
      "source": [
        "from collections import OrderedDict\n",
        "\n",
        "# Define a sample OrderedDict\n",
        "sample_dict = OrderedDict([('key1', 'value1'), ('key2', 'value2')])\n",
        "\n",
        "# Insert a new key-value pair at the beginning of the OrderedDict\n",
        "sample_dict.update({'key0': 'value0'})\n",
        "\n",
        "# Print the updated OrderedDict\n",
        "print(\"Updated OrderedDict:\", sample_dict)\n"
      ],
      "metadata": {
        "colab": {
          "base_uri": "https://localhost:8080/"
        },
        "id": "IG7VDosj6TZs",
        "outputId": "2396c8eb-f80d-4e02-df72-ce7b937dc263"
      },
      "execution_count": null,
      "outputs": [
        {
          "output_type": "stream",
          "name": "stdout",
          "text": [
            "Updated OrderedDict: OrderedDict([('key1', 'value1'), ('key2', 'value2'), ('key0', 'value0')])\n"
          ]
        }
      ]
    },
    {
      "cell_type": "markdown",
      "source": [
        "6. Write a Python program to check order of character in string using OrderedDict()?"
      ],
      "metadata": {
        "id": "D4NCqYri6bFt"
      }
    },
    {
      "cell_type": "code",
      "source": [
        "from collections import OrderedDict\n",
        "\n",
        "# Define a sample string\n",
        "sample_string = \"hello world\"\n",
        "\n",
        "# Create an OrderedDict to store the order of characters in the string\n",
        "char_order = OrderedDict()\n",
        "\n",
        "# Loop through each character in the string and add it to the OrderedDict if it doesn't exist\n",
        "for char in sample_string:\n",
        "    if char not in char_order:\n",
        "        char_order[char] = 1\n",
        "\n",
        "# Print the order of characters in the string\n",
        "print(\"Order of characters in the string:\", \"\".join(char_order.keys()))\n"
      ],
      "metadata": {
        "colab": {
          "base_uri": "https://localhost:8080/"
        },
        "id": "I687aRXS6dBX",
        "outputId": "94a49124-c7d6-47a2-97df-b7b99d0b2840"
      },
      "execution_count": null,
      "outputs": [
        {
          "output_type": "stream",
          "name": "stdout",
          "text": [
            "Order of characters in the string: helo wrd\n"
          ]
        }
      ]
    },
    {
      "cell_type": "markdown",
      "source": [
        "7. Write a Python program to sort Python Dictionaries by Key or Value?"
      ],
      "metadata": {
        "id": "-jdMJ1yf6xgE"
      }
    },
    {
      "cell_type": "code",
      "source": [
        "# Define a sample dictionary\n",
        "sample_dict = {'key1': 5, 'key3': 3, 'key2': 7, 'key5': 2, 'key4': 1}\n",
        "\n",
        "# Sort the dictionary by key and print the result\n",
        "sorted_dict_by_key = dict(sorted(sample_dict.items()))\n",
        "print(\"Sorted dictionary by key:\", sorted_dict_by_key)\n",
        "\n",
        "# Sort the dictionary by value and print the result\n",
        "sorted_dict_by_value = dict(sorted(sample_dict.items(), key=lambda x: x[1]))\n",
        "print(\"Sorted dictionary by value:\", sorted_dict_by_value)\n"
      ],
      "metadata": {
        "colab": {
          "base_uri": "https://localhost:8080/"
        },
        "id": "6j8_Kp3R6uxC",
        "outputId": "ada238db-e32e-42f5-bdfb-5785abbaec7c"
      },
      "execution_count": null,
      "outputs": [
        {
          "output_type": "stream",
          "name": "stdout",
          "text": [
            "Sorted dictionary by key: {'key1': 5, 'key2': 7, 'key3': 3, 'key4': 1, 'key5': 2}\n",
            "Sorted dictionary by value: {'key4': 1, 'key5': 2, 'key3': 3, 'key1': 5, 'key2': 7}\n"
          ]
        }
      ]
    }
  ]
}