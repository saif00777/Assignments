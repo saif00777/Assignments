{
  "nbformat": 4,
  "nbformat_minor": 0,
  "metadata": {
    "colab": {
      "provenance": []
    },
    "kernelspec": {
      "name": "python3",
      "display_name": "Python 3"
    },
    "language_info": {
      "name": "python"
    }
  },
  "cells": [
    {
      "cell_type": "markdown",
      "source": [
        "Question 1:\n",
        "Define a class with a generator which can iterate the numbers, which are divisible by\n",
        "7, between a given range 0 and n."
      ],
      "metadata": {
        "id": "xFR91bgD9SfE"
      }
    },
    {
      "cell_type": "code",
      "execution_count": null,
      "metadata": {
        "colab": {
          "base_uri": "https://localhost:8080/"
        },
        "id": "tHT1ZvZA9QXz",
        "outputId": "0e8ad5a4-eb24-444e-ad4c-3f1b3962b725"
      },
      "outputs": [
        {
          "output_type": "stream",
          "name": "stdout",
          "text": [
            "0\n",
            "7\n",
            "14\n",
            "21\n",
            "28\n",
            "35\n",
            "42\n",
            "49\n"
          ]
        }
      ],
      "source": [
        "class DivisibleBySeven:\n",
        "    def __init__(self, n):\n",
        "        self.n = n\n",
        "\n",
        "    def generate_numbers(self):\n",
        "        for i in range(self.n + 1):\n",
        "            if i % 7 == 0:\n",
        "                yield i\n",
        "\n",
        "# Example usage\n",
        "divisible_by_seven = DivisibleBySeven(50)\n",
        "for num in divisible_by_seven.generate_numbers():\n",
        "    print(num)\n"
      ]
    },
    {
      "cell_type": "markdown",
      "source": [
        "Question 2:\n",
        "Write a program to compute the frequency of the words from the input. The output\n",
        "should output after sorting the key alphanumerically.\n",
        "Suppose the following input is supplied to the program:\n",
        "New to Python or choosing between Python 2 and Python 3? Read Python 2 or\n",
        "Python 3.\n",
        "Then, the output should be:\n",
        "2:2\n",
        "3.:1\n",
        "3?:1\n",
        "New:1\n",
        "Python:5\n",
        "Read:1\n",
        "and:1\n",
        "between:1\n",
        "choosing:1\n",
        "or:2\n",
        "to:1"
      ],
      "metadata": {
        "id": "Hz3Exv879e48"
      }
    },
    {
      "cell_type": "code",
      "source": [
        "from collections import defaultdict\n",
        "\n",
        "def word_frequency(input_string):\n",
        "    freq_dict = defaultdict(int)\n",
        "    for word in input_string.split():\n",
        "        freq_dict[word] += 1\n",
        "    return freq_dict\n",
        "\n",
        "if __name__ == \"__main__\":\n",
        "    input_string = input(\"Enter a string: \")\n",
        "    freq_dict = word_frequency(input_string)\n",
        "    for word in sorted(freq_dict):\n",
        "        print(f\"{word}: {freq_dict[word]}\")\n"
      ],
      "metadata": {
        "id": "BQ9T5-hz9eOM"
      },
      "execution_count": null,
      "outputs": []
    },
    {
      "cell_type": "markdown",
      "source": [
        "Question 3:\n",
        "\n",
        "Define a class Person and its two child classes: Male and Female. All classes have a\n",
        "method &quot;getGender&quot; which can print &quot;Male&quot; for Male class and &quot;Female&quot; for Female\n",
        "class."
      ],
      "metadata": {
        "id": "GZsi-LF09kxW"
      }
    },
    {
      "cell_type": "code",
      "source": [
        "class Person:\n",
        "    def getGender(self):\n",
        "        pass\n",
        "\n",
        "class Male(Person):\n",
        "    def getGender(self):\n",
        "        print(\"Male\")\n",
        "\n",
        "class Female(Person):\n",
        "    def getGender(self):\n",
        "        print(\"Female\")\n"
      ],
      "metadata": {
        "id": "SmCoQnMK9lDc"
      },
      "execution_count": null,
      "outputs": []
    },
    {
      "cell_type": "markdown",
      "source": [
        "Question 4:\n",
        "Please write a program to generate all sentences where subject is in [&quot;I&quot;, &quot;You&quot;] and\n",
        "verb is in [&quot;Play&quot;, &quot;Love&quot;] and the object is in [&quot;Hockey&quot;,&quot;Football&quot;]."
      ],
      "metadata": {
        "id": "sp1Yr9WzC8dC"
      }
    },
    {
      "cell_type": "code",
      "source": [
        "subjects = [\"I\", \"You\"]\n",
        "verbs = [\"Play\", \"Love\"]\n",
        "objects = [\"Hockey\", \"Football\"]\n",
        "\n",
        "for subject in subjects:\n",
        "    for verb in verbs:\n",
        "        for obj in objects:\n",
        "            sentence = f\"{subject} {verb} {obj}.\"\n",
        "            print(sentence)\n"
      ],
      "metadata": {
        "colab": {
          "base_uri": "https://localhost:8080/"
        },
        "id": "71R_aa6sC7ke",
        "outputId": "2cdc6073-be8b-4981-be57-e4b70149f183"
      },
      "execution_count": null,
      "outputs": [
        {
          "output_type": "stream",
          "name": "stdout",
          "text": [
            "I Play Hockey.\n",
            "I Play Football.\n",
            "I Love Hockey.\n",
            "I Love Football.\n",
            "You Play Hockey.\n",
            "You Play Football.\n",
            "You Love Hockey.\n",
            "You Love Football.\n"
          ]
        }
      ]
    },
    {
      "cell_type": "markdown",
      "source": [
        "Question 5:\n",
        "Please write a program to compress and decompress the string &quot;hello world!hello\n",
        "world!hello world!hello world!&quot;."
      ],
      "metadata": {
        "id": "ojqvawvfDHmP"
      }
    },
    {
      "cell_type": "code",
      "source": [
        "import zlib\n",
        "\n",
        "# Compress the string\n",
        "original_string = b\"hello world!hello world!hello world!hello world!\"\n",
        "compressed_string = zlib.compress(original_string)\n",
        "\n",
        "# Print the compressed string\n",
        "print(\"Compressed string:\", compressed_string)\n",
        "\n",
        "# Decompress the string\n",
        "decompressed_string = zlib.decompress(compressed_string)\n",
        "\n",
        "# Print the decompressed string\n",
        "print(\"Decompressed string:\", decompressed_string)\n"
      ],
      "metadata": {
        "id": "Xf4bCR1tDHWB"
      },
      "execution_count": null,
      "outputs": []
    },
    {
      "cell_type": "markdown",
      "source": [
        "Question 6:\n",
        "Please write a binary search function which searches an item in a sorted list. The\n",
        "function should return the index of element to be searched in the list."
      ],
      "metadata": {
        "id": "qkhkhK25DxO2"
      }
    },
    {
      "cell_type": "code",
      "source": [
        "def binary_search(arr, x):\n",
        "    low = 0\n",
        "    high = len(arr) - 1\n",
        "    while low <= high:\n",
        "        mid = (low + high) // 2\n",
        "        if arr[mid] == x:\n",
        "            return mid\n",
        "        elif arr[mid] < x:\n",
        "            low = mid + 1\n",
        "        else:\n",
        "            high = mid - 1\n",
        "    return -1\n"
      ],
      "metadata": {
        "id": "yfxYX0l5Dxev"
      },
      "execution_count": null,
      "outputs": []
    }
  ]
}