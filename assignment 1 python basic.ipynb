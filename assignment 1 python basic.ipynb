{
 "cells": [
  {
   "cell_type": "code",
   "execution_count": null,
   "id": "3891fabd",
   "metadata": {},
   "outputs": [],
   "source": [
    "1. In the below elements which of them are values or an expression? eg:- values can be\n",
    "integer or string and expressions will be mathematical operators. \n",
    "*= expressions\n",
    "hello = values\n",
    "-87.8 = values\n",
    "- = expression\n",
    "/ = expression\n",
    "+ = expression\n",
    "6 =values"
   ]
  },
  {
   "cell_type": "code",
   "execution_count": null,
   "id": "fcd033cb",
   "metadata": {},
   "outputs": [],
   "source": [
    "2. What is the difference between string and variable?\n",
    "string:\n",
    "      string is a data type where it is stored under single or double inverted commas for EG: \"ineuron\" and it is treated as character and not as numeric value.\n",
    "variable:\n",
    "        variable is where the data is stored for EG: a = 'goog morning' or a = 56 here a is the variable."
   ]
  },
  {
   "cell_type": "code",
   "execution_count": null,
   "id": "93b5c1ca",
   "metadata": {},
   "outputs": [],
   "source": [
    "3.Describe three different data types.\n",
    "1.string: it is a datatype which is doesn't hold any value most of the time it is alphabetic term.\n",
    "2.List : a data type which holds elements with in the square brackets.\n",
    "3.Dictionary : a data type which holds elements in key value pairs."
   ]
  },
  {
   "cell_type": "code",
   "execution_count": null,
   "id": "bc8107f9",
   "metadata": {},
   "outputs": [],
   "source": [
    "4.What is an expression made up of? What do all expressions do?\n",
    "\n",
    "expression is made up of different values, combinations, operators to perform a perticular function"
   ]
  },
  {
   "cell_type": "code",
   "execution_count": null,
   "id": "4304fc1f",
   "metadata": {},
   "outputs": [],
   "source": [
    "5.This assignment statements, like spam = 10. What is the difference between an\n",
    "expression and a statement?\n",
    "\n",
    "expression:An expression evaluates to a value. Example: >>> a + 16\n",
    ">>> 20\n",
    "\n",
    "statement:A statement executes something. Example: >>> x = 3\n",
    ">>> print(x) Output: 3\n"
   ]
  },
  {
   "cell_type": "code",
   "execution_count": null,
   "id": "dbd7a44c",
   "metadata": {},
   "outputs": [],
   "source": [
    "6.After running the following code, what does the variable bacon contain?\n",
    "bacon = 22\n",
    "bacon + 1\n",
    "\n",
    "20\n"
   ]
  },
  {
   "cell_type": "code",
   "execution_count": null,
   "id": "3065eb29",
   "metadata": {},
   "outputs": [],
   "source": [
    "7.What should the values of the following two terms be?\n",
    "'spam'+'spamspam'\n",
    "'spam' * 3\n",
    "\n",
    "'spamspamspam'\n",
    "'spamspamspam'\n"
   ]
  },
  {
   "cell_type": "code",
   "execution_count": null,
   "id": "c6b2396f",
   "metadata": {},
   "outputs": [],
   "source": [
    "8.Why is eggs a valid variable name while 100 is invalid?\n",
    "\n",
    "the variable should be such that it should holld the values or data so we should use variables like eggs or any alphabetic terms.\n",
    "on the other hand if use 100 as a variable it will not work because 100 itself holds a value."
   ]
  },
  {
   "cell_type": "code",
   "execution_count": null,
   "id": "22fff7e5",
   "metadata": {},
   "outputs": [],
   "source": [
    "9. What three functions can be used to get the integer, floating-point number, or string\n",
    "version of a value?\n",
    "\n",
    "str()\n",
    "float()\n",
    "int()\n"
   ]
  },
  {
   "cell_type": "code",
   "execution_count": null,
   "id": "ea14af15",
   "metadata": {},
   "outputs": [],
   "source": [
    "10. Why does this expression cause an error? How can you fix it?\n",
    "'I have eaten'+99+'burritos.'\n",
    "\n",
    "we can't concatenate string with integer.\n",
    "\n",
    "solution: 'I have eaten'+' '+'99'+' ' +'burritos.'\n"
   ]
  }
 ],
 "metadata": {
  "kernelspec": {
   "display_name": "Python 3 (ipykernel)",
   "language": "python",
   "name": "python3"
  },
  "language_info": {
   "codemirror_mode": {
    "name": "ipython",
    "version": 3
   },
   "file_extension": ".py",
   "mimetype": "text/x-python",
   "name": "python",
   "nbconvert_exporter": "python",
   "pygments_lexer": "ipython3",
   "version": "3.9.9"
  }
 },
 "nbformat": 4,
 "nbformat_minor": 5
}
