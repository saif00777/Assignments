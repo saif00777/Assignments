{
 "cells": [
  {
   "cell_type": "code",
   "execution_count": 4,
   "metadata": {},
   "outputs": [
    {
     "name": "stdout",
     "output_type": "stream",
     "text": [
      "the factorial of 10 is 3628800\n"
     ]
    }
   ],
   "source": [
    "#Write a Python Program to Find the Factorial of a Number?\n",
    "num=int(input())\n",
    "factorial=1\n",
    "if num <0:\n",
    "    print(\"no factorial for negetive number\")\n",
    "elif num==0:\n",
    "    print(\"the factorial of 0 is 1\")\n",
    "else:\n",
    "    for i in range(1,num+1):\n",
    "        factorial=factorial*i\n",
    "    print('the factorial of',num,'is',factorial)\n"
   ]
  },
  {
   "cell_type": "code",
   "execution_count": 6,
   "metadata": {},
   "outputs": [
    {
     "name": "stdout",
     "output_type": "stream",
     "text": [
      "17 x 1 = 17\n",
      "17 x 2 = 34\n",
      "17 x 3 = 51\n",
      "17 x 4 = 68\n",
      "17 x 5 = 85\n",
      "17 x 6 = 102\n",
      "17 x 7 = 119\n",
      "17 x 8 = 136\n",
      "17 x 9 = 153\n",
      "17 x 10 = 170\n"
     ]
    }
   ],
   "source": [
    "#Write a Python Program to Display the multiplication Table?\n",
    "num=int(input())\n",
    "for i in range(1,11):\n",
    "    print(num,'x',i,'=',i*num)"
   ]
  },
  {
   "cell_type": "code",
   "execution_count": 7,
   "metadata": {},
   "outputs": [
    {
     "name": "stdout",
     "output_type": "stream",
     "text": [
      "Fibonacci sequence:\n",
      "0\n",
      "1\n",
      "1\n",
      "2\n",
      "3\n",
      "5\n",
      "8\n",
      "13\n",
      "21\n",
      "34\n"
     ]
    }
   ],
   "source": [
    "#Write a Python Program to Print the Fibonacci sequence?\n",
    "\n",
    "nterms = int(input(\"How many terms? \"))\n",
    "\n",
    "n1, n2 = 0, 1\n",
    "count = 0\n",
    "if nterms <= 0:\n",
    "   print(\"Please enter a positive integer\")\n",
    "elif nterms == 1:\n",
    "   print(\"Fibonacci sequence upto\",nterms,\":\")\n",
    "   print(n1)\n",
    "else:\n",
    "   print(\"Fibonacci sequence:\")\n",
    "   while count < nterms:\n",
    "       print(n1)\n",
    "       nth = n1 + n2\n",
    "       n1 = n2\n",
    "       n2 = nth\n",
    "       count += 1"
   ]
  },
  {
   "cell_type": "code",
   "execution_count": 10,
   "metadata": {},
   "outputs": [
    {
     "name": "stdout",
     "output_type": "stream",
     "text": [
      "153 is an Armstrong number\n"
     ]
    }
   ],
   "source": [
    "#Write a Python Program to Check Armstrong Number?\n",
    "\n",
    "num = int(input(\"Enter a number: \"))\n",
    "\n",
    "sum = 0\n",
    "temp = num\n",
    "while temp > 0:\n",
    "   digit = temp % 10\n",
    "   sum += digit ** 3\n",
    "   temp //= 10\n",
    "\n",
    "if num == sum:\n",
    "   print(num,\"is an Armstrong number\")\n",
    "else:\n",
    "   print(num,\"is not an Armstrong number\")\n"
   ]
  },
  {
   "cell_type": "code",
   "execution_count": 11,
   "metadata": {},
   "outputs": [
    {
     "name": "stdout",
     "output_type": "stream",
     "text": [
      "153\n",
      "370\n",
      "371\n",
      "407\n",
      "1634\n"
     ]
    }
   ],
   "source": [
    "#Write a Python Program to Find Armstrong Number in an Interval?\n",
    "lower = int(input())\n",
    "upper = int(input())\n",
    "\n",
    "for num in range(lower, upper + 1):\n",
    "\n",
    "   order = len(str(num))\n",
    "    \n",
    "   sum = 0\n",
    "   temp = num\n",
    "   while temp > 0:\n",
    "       digit = temp % 10\n",
    "       sum += digit ** order\n",
    "       temp //= 10\n",
    "\n",
    "   if num == sum:\n",
    "       print(num)\n"
   ]
  },
  {
   "cell_type": "code",
   "execution_count": 16,
   "metadata": {},
   "outputs": [
    {
     "name": "stdout",
     "output_type": "stream",
     "text": [
      "the sum is 136\n"
     ]
    }
   ],
   "source": [
    "#Write a Python Program to Find the Sum of Natural Numbers?\n",
    "num=int(input())\n",
    "sum=0\n",
    "for i in range(1,num+1):\n",
    "    sum+=i\n",
    "print('the sum is',sum)\n"
   ]
  },
  {
   "cell_type": "code",
   "execution_count": null,
   "metadata": {},
   "outputs": [],
   "source": []
  }
 ],
 "metadata": {
  "interpreter": {
   "hash": "4c790a727ea364009ee8ecfcd3ac2aea510f882ddf86206b56338a01f4f18b0c"
  },
  "kernelspec": {
   "display_name": "Python 3.9.9 64-bit",
   "language": "python",
   "name": "python3"
  },
  "language_info": {
   "codemirror_mode": {
    "name": "ipython",
    "version": 3
   },
   "file_extension": ".py",
   "mimetype": "text/x-python",
   "name": "python",
   "nbconvert_exporter": "python",
   "pygments_lexer": "ipython3",
   "version": "3.9.9"
  },
  "orig_nbformat": 4
 },
 "nbformat": 4,
 "nbformat_minor": 2
}
